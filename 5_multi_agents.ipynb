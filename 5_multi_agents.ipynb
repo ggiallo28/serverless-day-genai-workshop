{
 "cells": [
  {
   "cell_type": "markdown",
   "id": "466f3bea",
   "metadata": {},
   "source": [
    "# Multi-Agent Collaboration with Amazon Bedrock\n",
    "\n",
    "This notebook explores the **multi-agent collaboration capability** in **Amazon Bedrock**, where specialized agents work together to solve complex tasks. The multi-agent system is orchestrated by a supervisor agent, allowing efficient task delegation and collaboration.\n",
    "\n",
    "---\n",
    "\n",
    "## Objectives\n",
    "\n",
    "1. **Understand the Multi-Agent Framework in Amazon Bedrock:**\n",
    "   - Learn about supervisor agents and subagents.\n",
    "   - Explore collaboration modes: Supervisor Mode and Supervisor with Routing Mode.\n",
    "\n",
    "2. **Create and Configure Agents:**\n",
    "   - Define and configure subagents for specific tasks.\n",
    "   - Create a supervisor agent to coordinate subagents.\n",
    "\n",
    "3. **Build and Test Multi-Agent Collaboration:**\n",
    "   - Use Amazon Bedrock to orchestrate multi-agent workflows.\n",
    "   - Test with real-world examples like social media campaign management.\n",
    "\n",
    "4. **Student Challenges:**\n",
    "   - Build multi-agent systems for custom scenarios.\n",
    "   - Test and debug multi-agent interactions.\n",
    "\n",
    "---\n",
    "\n",
    "## Concepts\n",
    "\n",
    "### 1. **Supervisor and Subagents**\n",
    "- **Supervisor Agent:** Manages task delegation, breakdown, and final response synthesis.\n",
    "- **Subagents:** Specialized agents focusing on distinct tasks (e.g., content generation, analytics).\n",
    "\n",
    "### 2. **Collaboration Modes**\n",
    "- **Supervisor Mode:**\n",
    "  - The supervisor analyzes input and orchestrates subagents.\n",
    "  - Best for complex tasks requiring full orchestration.\n",
    "  \n",
    "- **Supervisor with Routing Mode:**\n",
    "  - Simple tasks are routed directly to relevant subagents.\n",
    "  - For ambiguous or complex queries, the system switches to supervisor mode.\n",
    "\n",
    "### 3. **Trace and Debug**\n",
    "- The **trace console** provides a timeline of subagent interactions.\n",
    "- Helps debug workflows and optimize inter-agent communication.\n",
    "\n",
    "---\n",
    "\n",
    "## Hands-On: Multi-Agent Collaboration in Amazon Bedrock"
   ]
  },
  {
   "cell_type": "code",
   "execution_count": null,
   "id": "238e100b",
   "metadata": {},
   "outputs": [],
   "source": [
    "from dotenv import load_dotenv\n",
    "import botocore.exceptions\n",
    "import os\n",
    "import json\n",
    "import sys\n",
    "import boto3\n",
    "\n",
    "aws_region = \"us-east-1\"\n",
    "\n",
    "load_dotenv(\".env\")\n",
    "\n",
    "bedrock_runtime_client = boto3.client(\"bedrock-runtime\", region_name=aws_region)\n",
    "bedrock_management_client = boto3.client('bedrock', region_name=aws_region)\n",
    "bedrock_agent_client = boto3.client('bedrock-agent', region_name=aws_region)\n",
    "bedrock_agent_runtime_client = boto3.client('bedrock-agent-runtime', region_name=aws_region)\n",
    "cloudformation_client = boto3.client('cloudformation', region_name=aws_region)\n",
    "\n",
    "boto3.__version__"
   ]
  },
  {
   "cell_type": "code",
   "execution_count": null,
   "id": "d189a32f-04cc-40c8-a796-ef981b1e1541",
   "metadata": {},
   "outputs": [],
   "source": [
    "%store -r stack_name\n",
    "%store -r agent_stack_name\n",
    "\n",
    "stack_name, agent_stack_name"
   ]
  },
  {
   "cell_type": "code",
   "execution_count": null,
   "id": "68eb9fd2-66a4-44fd-a801-92d3eab7f0c6",
   "metadata": {},
   "outputs": [],
   "source": [
    "response_stack1 = cloudformation_client.describe_stacks(StackName=stack_name)\n",
    "outputs_stack1 = response_stack1['Stacks'][0]['Outputs']\n",
    "\n",
    "response_stack2 = cloudformation_client.describe_stacks(StackName=agent_stack_name)\n",
    "outputs_stack2 = response_stack2['Stacks'][0]['Outputs']\n",
    "\n",
    "results = {}\n",
    "\n",
    "for output in outputs_stack1:\n",
    "    results[output['OutputKey']] = output['OutputValue']\n",
    "for output in outputs_stack2:\n",
    "    results[output['OutputKey']] = output['OutputValue']\n",
    "    \n",
    "for key, value in results.items():\n",
    "    print(f\"{key}: {value}\")"
   ]
  },
  {
   "cell_type": "code",
   "execution_count": null,
   "id": "b860fe28-6cf3-424e-881e-5c3198716d8c",
   "metadata": {},
   "outputs": [],
   "source": [
    "import ipywidgets as widgets\n",
    "\n",
    "agent_foundation_model_selector = widgets.Dropdown(\n",
    "    options=[\n",
    "        ('Claude 3 Sonnet', 'anthropic.claude-3-sonnet-20240229-v1:0'),\n",
    "        ('Claude 3 Haiku', 'anthropic.claude-3-haiku-20240307-v1:0'),\n",
    "        ('Titan Text G1 - Premier', 'amazon.titan-text-premier-v1:0'),\n",
    "        ('Titan Text G1 - Lite', 'amazon.titan-text-lite-v1'),\n",
    "        ('Titan Text G1 - Express', 'amazon.titan-text-express-v1')\n",
    "    ],\n",
    "    value='anthropic.claude-3-sonnet-20240229-v1:0',\n",
    "    description='FM:',\n",
    "    disabled=False,\n",
    ")\n",
    "agent_foundation_model_selector"
   ]
  },
  {
   "cell_type": "markdown",
   "id": "37403309",
   "metadata": {},
   "source": [
    "### Step 1: Define Subagents\n",
    "\n",
    "We create two subagents for a social media campaign manager:\n",
    "1. **Content Strategist:** Generates creative content ideas.\n",
    "2. **Engagement Predictor:** Analyzes post performance and suggests optimal posting times."
   ]
  },
  {
   "cell_type": "code",
   "execution_count": 45,
   "id": "edfdef6b",
   "metadata": {},
   "outputs": [],
   "source": [
    "def create_agent(agent_name, description, model_id, instructions, agent_collaboration='DISABLED'):\n",
    "    response = bedrock_agent_client.create_agent(\n",
    "        agentCollaboration=agent_collaboration,\n",
    "        agentName=agent_name,\n",
    "        description=description,\n",
    "        foundationModel=model_id,\n",
    "        instruction=instructions,\n",
    "        agentResourceRoleArn=results[\"BedrockExecutionRoleArn\"]\n",
    "    )\n",
    "    return response['agent']\n",
    "\n",
    "def prepare_agent(agent_id):\n",
    "    response = bedrock_agent_client.prepare_agent(\n",
    "        agentId=agent_id\n",
    "    )\n",
    "    return response"
   ]
  },
  {
   "cell_type": "code",
   "execution_count": 46,
   "id": "f1bd0364-170f-43cc-9b4c-f3a6f8e9f0ef",
   "metadata": {},
   "outputs": [],
   "source": [
    "content_agent = create_agent(\n",
    "    agent_name=\"content-strategist\",\n",
    "    description=\"Generates creative social media content ideas.\",\n",
    "    model_id=agent_foundation_model_selector.value,\n",
    "    instructions=(\n",
    "        \"You are a content strategist. Generate creative, on-brand social media ideas \"\n",
    "        \"aligned with campaign goals. Each suggestion should include content type, copy, and hashtags.\"\n",
    "    )\n",
    ")"
   ]
  },
  {
   "cell_type": "code",
   "execution_count": null,
   "id": "99692890-eab4-4962-bbb1-4b7e2d8b016b",
   "metadata": {},
   "outputs": [],
   "source": [
    "content_agent"
   ]
  },
  {
   "cell_type": "code",
   "execution_count": null,
   "id": "ab052cc4-6670-4099-9606-8ff00919d5be",
   "metadata": {},
   "outputs": [],
   "source": [
    "prepare_agent(content_agent['agentId'])"
   ]
  },
  {
   "cell_type": "code",
   "execution_count": 49,
   "id": "38fed9b5-5d7a-47ce-943e-da1a637ff749",
   "metadata": {},
   "outputs": [],
   "source": [
    "engagement_agent = create_agent(\n",
    "    agent_name=\"engagement-predictor\",\n",
    "    description=\"Predicts social media post performance.\",\n",
    "    model_id=agent_foundation_model_selector.value,\n",
    "    instructions=(\n",
    "        \"You are a social media analytics expert. Predict post performance and suggest optimal timing \"\n",
    "        \"based on industry benchmarks and audience behavior.\"\n",
    "    )\n",
    ")"
   ]
  },
  {
   "cell_type": "code",
   "execution_count": null,
   "id": "a8f09081-8549-4ebc-9e52-7510bfe7fca9",
   "metadata": {},
   "outputs": [],
   "source": [
    "engagement_agent"
   ]
  },
  {
   "cell_type": "code",
   "execution_count": null,
   "id": "7fd3ab53-e584-4d16-91f3-3ac3b51a7509",
   "metadata": {},
   "outputs": [],
   "source": [
    "prepare_agent(engagement_agent['agentId'])"
   ]
  },
  {
   "cell_type": "markdown",
   "id": "33a0df4a",
   "metadata": {},
   "source": [
    "### Step 2: Create Supervisor Agent\n",
    "\n",
    "The **Supervisor Agent** orchestrates the workflow by coordinating subagents."
   ]
  },
  {
   "cell_type": "code",
   "execution_count": 53,
   "id": "8842b875",
   "metadata": {},
   "outputs": [],
   "source": [
    "supervisor_agent = create_agent(\n",
    "    agent_name=\"social-media-campaign-manager\",\n",
    "    description=\"Coordinates a social media campaign by combining content and analytics insights.\",\n",
    "    model_id=agent_foundation_model_selector.value,\n",
    "    instructions=\"You are a campaign manager orchestrating tasks across agents to create strategic plans.\",\n",
    "    agent_collaboration='SUPERVISOR'\n",
    ")"
   ]
  },
  {
   "cell_type": "code",
   "execution_count": null,
   "id": "5b00e28e-4fa0-4a3d-9008-28246ef86abb",
   "metadata": {},
   "outputs": [],
   "source": [
    "supervisor_agent"
   ]
  },
  {
   "cell_type": "markdown",
   "id": "46a403c4-2b86-4825-97d7-81a070df596a",
   "metadata": {},
   "source": [
    "### Step 3: Create Agent Alias\n",
    "\n",
    "The agent alias is a prerequisite for the association operation that will occur in the next step."
   ]
  },
  {
   "cell_type": "code",
   "execution_count": 56,
   "id": "4b03210f-6caa-4905-8078-02c83f62f809",
   "metadata": {},
   "outputs": [],
   "source": [
    "def create_agent_alias(alias_name, agent_id, description):\n",
    "    response = bedrock_agent_client.create_agent_alias(\n",
    "        agentAliasName=alias_name,\n",
    "        agentId=agent_id,\n",
    "        description=description\n",
    "    )\n",
    "    return response"
   ]
  },
  {
   "cell_type": "code",
   "execution_count": 58,
   "id": "92db5561-3b93-4a6b-8f5a-f1644b42da25",
   "metadata": {},
   "outputs": [],
   "source": [
    "content_alias_response = create_agent_alias(\n",
    "    alias_name=\"content-strategist-content\",\n",
    "    agent_id=content_agent['agentId'],\n",
    "    description=\"Alias for the content strategist content agent.\"\n",
    ")"
   ]
  },
  {
   "cell_type": "code",
   "execution_count": null,
   "id": "2fac55ca-aea8-4c64-8d76-78b755e8a5a3",
   "metadata": {},
   "outputs": [],
   "source": [
    "content_alias_response"
   ]
  },
  {
   "cell_type": "code",
   "execution_count": 59,
   "id": "8a16c892-2922-4d30-809d-7a937b6c3a9e",
   "metadata": {},
   "outputs": [],
   "source": [
    "engagement_alias_response = create_agent_alias(\n",
    "    alias_name=\"content-strategist-engagement\",\n",
    "    agent_id=engagement_agent['agentId'],\n",
    "    description=\"Alias for the content strategist engagement agent.\"\n",
    ")"
   ]
  },
  {
   "cell_type": "code",
   "execution_count": null,
   "id": "4bd7b8a4-0aed-4870-8540-6666fd85058b",
   "metadata": {},
   "outputs": [],
   "source": [
    "engagement_alias_response"
   ]
  },
  {
   "cell_type": "markdown",
   "id": "7623dc0a",
   "metadata": {},
   "source": [
    "### Step 4: Associate Subagents with Supervisor\n",
    "\n",
    "Use `AssociateAgentCollaborator` to link subagents with the supervisor agent."
   ]
  },
  {
   "cell_type": "code",
   "execution_count": 64,
   "id": "a776c7f4",
   "metadata": {},
   "outputs": [],
   "source": [
    "def associate_collaborator(supervisor_id, collaborator_alias_arn, agent_version, collaboration_instruction, collaborator_name, relay_history):\n",
    "    response = bedrock_agent_client.associate_agent_collaborator(\n",
    "        agentDescriptor={\n",
    "            'aliasArn': collaborator_alias_arn\n",
    "        },\n",
    "        agentId=supervisor_id,\n",
    "        agentVersion=agent_version,\n",
    "        collaborationInstruction=collaboration_instruction,\n",
    "        collaboratorName=collaborator_name,\n",
    "        relayConversationHistory=relay_history\n",
    "    )\n",
    "    return response"
   ]
  },
  {
   "cell_type": "code",
   "execution_count": 65,
   "id": "7f7c2278-f187-43f5-a20e-d86c1ff92a2d",
   "metadata": {},
   "outputs": [],
   "source": [
    "associate_collaborator_response = associate_collaborator(\n",
    "    supervisor_id=supervisor_agent['agentId'],\n",
    "    collaborator_alias_arn=content_alias_response['agentAlias']['agentAliasArn'],\n",
    "    agent_version=\"DRAFT\",\n",
    "    collaboration_instruction=\"Handles content generation for social media campaigns.\",\n",
    "    collaborator_name=\"content-strategist\",\n",
    "    relay_history=\"TO_COLLABORATOR\"\n",
    ")"
   ]
  },
  {
   "cell_type": "code",
   "execution_count": null,
   "id": "fb256d46-3752-43a7-ab86-6fede7e29105",
   "metadata": {},
   "outputs": [],
   "source": [
    "associate_collaborator_response"
   ]
  },
  {
   "cell_type": "code",
   "execution_count": 67,
   "id": "998d94a5-845c-42e7-aea6-3564159309ef",
   "metadata": {},
   "outputs": [],
   "source": [
    "associate_engagement_response = associate_collaborator(\n",
    "    supervisor_id=supervisor_agent['agentId'],\n",
    "    collaborator_alias_arn=engagement_alias_response['agentAlias']['agentAliasArn'],\n",
    "    agent_version=\"DRAFT\",\n",
    "    collaboration_instruction=\"Predicts social media post performance and optimal timing.\",\n",
    "    collaborator_name=\"engagement-predictor\",\n",
    "    relay_history=\"TO_COLLABORATOR\"\n",
    ")"
   ]
  },
  {
   "cell_type": "code",
   "execution_count": null,
   "id": "3ee26887-f8f7-4c2f-b84f-23588551eaa1",
   "metadata": {},
   "outputs": [],
   "source": [
    "associate_engagement_response"
   ]
  },
  {
   "cell_type": "markdown",
   "id": "ea588802",
   "metadata": {},
   "source": [
    "### Step 4: Test the Multi-Agent System\n",
    "\n",
    "Invoke the **supervisor agent** with a query that requires both subagents to collaborate."
   ]
  },
  {
   "cell_type": "code",
   "execution_count": null,
   "id": "ded9487c-c89f-4514-834a-45953f75abde",
   "metadata": {},
   "outputs": [],
   "source": [
    "prepare_agent(supervisor_agent['agentId'])"
   ]
  },
  {
   "cell_type": "code",
   "execution_count": 73,
   "id": "c38d06d0-4849-4038-864b-e7365767892e",
   "metadata": {},
   "outputs": [],
   "source": [
    "supervisor_alias_response = create_agent_alias(\n",
    "    alias_name=\"supervisor-agent-content-alias\",\n",
    "    agent_id=supervisor_agent['agentId'],\n",
    "    description=\"Alias for the supervisor agent managing content strategies.\"\n",
    ")"
   ]
  },
  {
   "cell_type": "code",
   "execution_count": null,
   "id": "a8d8c7dc-6c95-4af7-aed8-4a461153d4bc",
   "metadata": {},
   "outputs": [],
   "source": [
    "supervisor_alias_response"
   ]
  },
  {
   "cell_type": "code",
   "execution_count": 88,
   "id": "b7af276c-9e69-4899-a2ab-07f117a74f76",
   "metadata": {},
   "outputs": [],
   "source": [
    "import uuid\n",
    "import boto3\n",
    "import pprint\n",
    "\n",
    "pp = pprint.PrettyPrinter(indent=2)\n",
    "\n",
    "def invoke_agent_helper(query, session_id, agent_id, alias_id, enable_trace=False, session_state=None):\n",
    "    if not session_state:\n",
    "        session_state = {}\n",
    "\n",
    "    payload = {\n",
    "        \"inputText\": query,\n",
    "        \"agentId\": agent_id,\n",
    "        \"agentAliasId\": alias_id,\n",
    "        \"sessionId\": session_id,\n",
    "        \"enableTrace\": enable_trace,\n",
    "        \"endSession\": False,\n",
    "        \"sessionState\": session_state\n",
    "    }\n",
    "\n",
    "    try:\n",
    "        agent_response = bedrock_agent_runtime_client.invoke_agent(**payload)\n",
    "        event_stream = agent_response['completion']\n",
    "        for event in event_stream:\n",
    "            if 'chunk' in event:\n",
    "                data = event['chunk']['bytes']\n",
    "                response_text = data.decode('utf8')\n",
    "                return response_text\n",
    "            elif 'trace' in event and enable_trace:\n",
    "                pp.pprint(event['trace'])\n",
    "            else:\n",
    "                raise Exception(f\"Unexpected event received: {event}\")\n",
    "\n",
    "    except Exception as e:\n",
    "        print(f\"Error while invoking agent: {e}\")\n",
    "        raise"
   ]
  },
  {
   "cell_type": "code",
   "execution_count": null,
   "id": "54c8a47d",
   "metadata": {},
   "outputs": [],
   "source": [
    "session_id = \"multi-agent-session\"\n",
    "\n",
    "try:\n",
    "    supervisor_response = invoke_agent_helper(\n",
    "        query=(\n",
    "            \"Create a 2-week campaign for EcoTech's solar panels. Target: B2B, Key points: 30% more efficient, \"\n",
    "            \"AI-optimized, 2-year ROI. Need: 4 posts/week on LinkedIn and Twitter.\"\n",
    "        ),\n",
    "        session_id=session_id,\n",
    "        agent_id=supervisor_alias_response['agentAlias']['agentId'],\n",
    "        alias_id=supervisor_alias_response['agentAlias']['agentAliasId'],\n",
    "        enable_trace=False\n",
    "    )\n",
    "\n",
    "    print(\"Agent Response:\")\n",
    "    print(supervisor_response)\n",
    "\n",
    "except Exception as e:\n",
    "    print(f\"Error in invoking agent helper: {e}\")"
   ]
  },
  {
   "cell_type": "markdown",
   "id": "a3701a2c",
   "metadata": {},
   "source": [
    "## **Preparation: Setting Up the Knowledge Base (KB)**\n",
    "\n",
    "In this section, we will create a **Knowledge Base (KB)** that will serve as the foundation for the multi-agent collaboration. The KB will store structured data and relevant insights that agents can use to generate responses and coordinate tasks effectively. This KB will be integrated into Amazon Bedrock agents for retrieval and reasoning tasks."
   ]
  },
  {
   "cell_type": "code",
   "execution_count": 2,
   "id": "e5b9f89c",
   "metadata": {},
   "outputs": [],
   "source": [
    "## Use the Knowledge Base (KB) Created Earlier for the Restaurant to Implement the Dining Agent."
   ]
  },
  {
   "cell_type": "markdown",
   "id": "61cae7ce",
   "metadata": {},
   "source": [
    "## Challenge for Students"
   ]
  },
  {
   "cell_type": "markdown",
   "id": "80a4a16f",
   "metadata": {},
   "source": [
    "### Optimize Multi-Agent Workflow for a Travel Planner\n",
    "\n",
    "**Objective:** Use a multi-agent system to collaboratively design an optimal travel itinerary tailored to user preferences.\n",
    "\n",
    "#### **Tasks:**\n",
    "\n",
    "1. **Attraction Agent**: Suggest attractions based on user-provided preferences such as destination, interests, and trip duration.\n",
    "2. **Logistics Agent**: Plan travel routes and accommodations, ensuring the itinerary is feasible and cost-effective.\n",
    "3. **Dining Agent**: Recommend dining options near attractions, tailored to user preferences (e.g., cuisine type, dietary restrictions), you can use the previously created restaurant knowledge base.\n",
    "4. **Supervisor Agent**: Integrate outputs from all agents into a cohesive travel plan, ensuring compatibility and balance.\n",
    "\n",
    "#### **Deliverable:**\n",
    "\n",
    "- Python code to implement and integrate the multi-agent system.\n",
    "- A test scenario with input (e.g., “Plan a 5-day trip to Paris for a family with kids who enjoy history and outdoor activities”).\n",
    "- JSON output presenting the finalized travel itinerary, including attractions, routes, accommodations, and dining recommendations.\n"
   ]
  },
  {
   "cell_type": "code",
   "execution_count": null,
   "id": "cda4fcff",
   "metadata": {},
   "outputs": [],
   "source": []
  },
  {
   "cell_type": "code",
   "execution_count": null,
   "id": "6fa2b731",
   "metadata": {},
   "outputs": [],
   "source": []
  },
  {
   "cell_type": "markdown",
   "id": "6c7ca0ca",
   "metadata": {},
   "source": [
    "### **Key Takeaways:**\n",
    "- **Supervised Orchestration:** Supervisor agents coordinate tasks across specialized subagents.\n",
    "- **Collaboration Modes:** Choose between Supervisor and Supervisor with Routing modes.\n",
    "- **Real-World Applications:** Multi-agent collaboration is powerful for complex tasks like social media management, recommendations, and travel planning.\n",
    "\n",
    "By completing these challenges, students will gain hands-on experience in implementing and testing multi-agent workflows in Amazon Bedrock!"
   ]
  },
  {
   "cell_type": "markdown",
   "id": "c6e03a9a-6c75-4f8a-89ed-ce423b1ac1d5",
   "metadata": {},
   "source": [
    "### Conclusion and Cleanup\n",
    "\n",
    "To avoid incurring additional costs, it is critical to delete the infrastructure and resources provisioned for this lab after completing all exercises. This includes components like the S3 bucket, OpenSearch collection, and other CloudFormation stack resources.\n",
    "\n",
    "You can delete the CloudFormation stack using the following code:\n",
    "\n",
    "```python\n",
    "cloudformation_client.delete_stack(StackName=stack_name)\n",
    "cloudformation_client.delete_stack(StackName=agent_stack_name)\n",
    "print(\"Stack deletion initiated.\")\n",
    "```\n",
    "\n",
    "Ensure you only initiate this cleanup process after verifying that no further labs or activities require the resources."
   ]
  },
  {
   "cell_type": "code",
   "execution_count": null,
   "id": "f1e8a726-7617-401d-b4e8-6019ebabe881",
   "metadata": {},
   "outputs": [],
   "source": []
  }
 ],
 "metadata": {
  "kernelspec": {
   "display_name": "default:Python",
   "language": "python",
   "name": "conda-env-default-py"
  },
  "language_info": {
   "codemirror_mode": {
    "name": "ipython",
    "version": 3
   },
   "file_extension": ".py",
   "mimetype": "text/x-python",
   "name": "python",
   "nbconvert_exporter": "python",
   "pygments_lexer": "ipython3",
   "version": "3.9.13"
  }
 },
 "nbformat": 4,
 "nbformat_minor": 5
}
