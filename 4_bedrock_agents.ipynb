{
 "cells": [
  {
   "cell_type": "markdown",
   "metadata": {},
   "source": [
    "# Amazon Bedrock Agent - Complete Workflow\n",
    "\n",
    "This notebook provides a comprehensive workflow to set up and test an Amazon Bedrock agent with the following steps:\n",
    "- Define resources via CloudFormation.\n",
    "- Deploy a Knowledge Base and connect it to the agent.\n",
    "- Test the agent with various scenarios, including using action groups, session attributes, and multi-language queries.\n",
    "- Validate operations using DynamoDB.\n"
   ]
  },
  {
   "cell_type": "code",
   "execution_count": null,
   "metadata": {},
   "outputs": [],
   "source": [
    "%store -r stack_name\n",
    "%store -r unique_id\n",
    "\n",
    "UNIQUE_ID = unique_id[:8]\n",
    "\n",
    "stack_name, unique_id"
   ]
  },
  {
   "cell_type": "markdown",
   "metadata": {},
   "source": [
    "## Environment Setup\n",
    "\n",
    "Let’s begin by setting up the environment and configuring the necessary AWS resources. This step ensures that the foundation is ready for deploying and running the application seamlessly."
   ]
  },
  {
   "cell_type": "code",
   "execution_count": null,
   "metadata": {},
   "outputs": [],
   "source": [
    "from dotenv import load_dotenv\n",
    "import botocore.exceptions\n",
    "import os\n",
    "import json\n",
    "import sys\n",
    "import boto3\n",
    "import pprint as pp\n",
    "import time\n",
    "import uuid\n",
    "\n",
    "aws_region = \"us-east-1\"\n",
    "load_dotenv(\".env\")\n",
    "\n",
    "def interactive_sleep(seconds):\n",
    "    \"\"\"Sleep interactively for the given number of seconds with progress.\"\"\"\n",
    "    for i in range(seconds):\n",
    "        print(f\"Sleeping... {i + 1}/{seconds} seconds\", end=\"\\r\")\n",
    "        time.sleep(1)\n",
    "\n",
    "AGENT_NAME = os.getenv(\"AGENT_NAME\", 'booking-agent') \n",
    "VECTOR_INDEX_NAME = os.getenv(\"VECTOR_INDEX_NAME\", f'{AGENT_NAME}-kb-{UNIQUE_ID}')\n",
    "\n",
    "bedrock_runtime_client = boto3.client(\"bedrock-runtime\", region_name=aws_region)\n",
    "bedrock_management_client = boto3.client('bedrock', region_name=aws_region)\n",
    "bedrock_agent_client = boto3.client('bedrock-agent', region_name=aws_region)\n",
    "bedrock_agent_runtime_client = boto3.client('bedrock-agent-runtime', region_name=aws_region)\n",
    "cloudformation_client = boto3.client('cloudformation', region_name=aws_region)\n",
    "\n",
    "boto3.__version__"
   ]
  },
  {
   "cell_type": "code",
   "execution_count": null,
   "metadata": {},
   "outputs": [],
   "source": [
    "response = cloudformation_client.describe_stacks(StackName=stack_name)\n",
    "outputs = response['Stacks'][0]['Outputs']\n",
    "\n",
    "lab2_results = {}\n",
    "for output in outputs:\n",
    "    lab2_results[output['OutputKey']] = output['OutputValue']\n",
    "    print(f\"{output['OutputKey']}: {output['OutputValue']}\")"
   ]
  },
  {
   "cell_type": "markdown",
   "metadata": {},
   "source": [
    "## Creating an Index for Booking in OpenSearch\n",
    "\n",
    "To enable the agent to interact with the required knowledge base (KB), we must first create an index in the OpenSearch database. Without this index, the KB cannot be established, and the agent will lack the necessary data for its operations."
   ]
  },
  {
   "cell_type": "code",
   "execution_count": null,
   "metadata": {},
   "outputs": [],
   "source": [
    "import os\n",
    "from opensearch_utils import create_index\n",
    "\n",
    "HOST = lab2_results[\"OpenSearchServerlessCollectionEndpoint\"].replace('https://', '')\n",
    "\n",
    "try:\n",
    "    print(\"Starting OpenSearch index creation...\")\n",
    "    create_index(host=HOST, index_name=VECTOR_INDEX_NAME, region=aws_region)\n",
    "    print(\"OpenSearch index creation completed successfully.\")\n",
    "except Exception as e:\n",
    "    print(f\"Error during OpenSearch index creation: {str(e)}\")"
   ]
  },
  {
   "cell_type": "markdown",
   "metadata": {},
   "source": [
    "## Loading a CloudFormation Template\n",
    "\n",
    "A **CloudFormation template** is a blueprint that defines the infrastructure and resources required for your application."
   ]
  },
  {
   "cell_type": "code",
   "execution_count": null,
   "metadata": {},
   "outputs": [],
   "source": [
    "from cloudformation_utils import load_template, colorize_yaml\n",
    "\n",
    "template_file_path = 'bedrock_agent_template.yaml'"
   ]
  },
  {
   "cell_type": "code",
   "execution_count": null,
   "metadata": {
    "tags": []
   },
   "outputs": [],
   "source": [
    "try:\n",
    "    cloudformation_template = load_template(template_file_path)\n",
    "    colorful_yaml = colorize_yaml(cloudformation_template)\n",
    "    print(colorful_yaml)\n",
    "except Exception as e:\n",
    "    print(f\"An error occurred: {e}\")"
   ]
  },
  {
   "cell_type": "markdown",
   "metadata": {},
   "source": [
    "### Create Resources via CloudFormation\n",
    "\n",
    "We will use a pre-defined CloudFormation template to deploy resources, including:\n",
    "- Amazon S3 Bucket for Knowledge Base documents.\n",
    "- Amazon DynamoDB Table for restaurant bookings.\n",
    "- Amazon OpenSearch Serverless collection for vector search.\n",
    "- Amazon Bedrock Knowledge Base and related resources.\n",
    "\n",
    "**Instructions:** Before proceeding, ensure that your AWS account has the necessary permissions to deploy the CloudFormation stack."
   ]
  },
  {
   "cell_type": "code",
   "execution_count": null,
   "metadata": {},
   "outputs": [],
   "source": [
    "agent_stack_name = f'BedrockAgentsStack-{UNIQUE_ID}'\n",
    "parameters = [\n",
    "    {\n",
    "        'ParameterKey': 'BedrockExecutionRoleArn',\n",
    "        'ParameterValue': lab2_results['BedrockExecutionRoleArn']\n",
    "    },\n",
    "    {\n",
    "        'ParameterKey': 'VectorIndexName',\n",
    "        'ParameterValue': VECTOR_INDEX_NAME\n",
    "    },\n",
    "    {\n",
    "        'ParameterKey': 'KnowledgeBaseId',\n",
    "        'ParameterValue': lab2_results['BedrockKnowledgeBaseId']\n",
    "    },\n",
    "    {\n",
    "        'ParameterKey': 'S3BucketName',\n",
    "        'ParameterValue': lab2_results['S3BucketName']\n",
    "    },\n",
    "    {\n",
    "        'ParameterKey': 'OpenSearchCollectionArn',\n",
    "        'ParameterValue': lab2_results['OpenSearchServerlessCollectionArn']\n",
    "    },\n",
    "    {\n",
    "        'ParameterKey': 'CreateKnowledgeBase',\n",
    "        'ParameterValue': 'true'\n",
    "    },\n",
    "    {\n",
    "        'ParameterKey': 'UUID',\n",
    "        'ParameterValue': UNIQUE_ID\n",
    "    },\n",
    "    {\n",
    "        'ParameterKey': 'FoundationModelId',\n",
    "        'ParameterValue': \"amazon.titan-text-premier-v1:0\"\n",
    "    }\n",
    "]"
   ]
  },
  {
   "cell_type": "code",
   "execution_count": null,
   "metadata": {},
   "outputs": [],
   "source": [
    "from cloudformation_utils import create_stack\n",
    "\n",
    "%store agent_stack_name\n",
    "\n",
    "try:\n",
    "    cloudformation_template = load_template(template_file_path)\n",
    "    stack_id = create_stack(aws_region, agent_stack_name, cloudformation_template, parameters)\n",
    "except Exception as e:\n",
    "    print(f\"An unexpected error occurred: {e}\")"
   ]
  },
  {
   "cell_type": "markdown",
   "metadata": {},
   "source": [
    "### Waiting for CloudFormation Stack Completion\n",
    "\n",
    "Before proceeding to the next steps, it's essential to wait for the **CloudFormation stack** to complete its creation process. This ensures that all resources are provisioned and configured correctly."
   ]
  },
  {
   "cell_type": "code",
   "execution_count": null,
   "metadata": {},
   "outputs": [],
   "source": [
    "from cloudformation_utils import wait_for_stack\n",
    "\n",
    "wait_for_stack(aws_region, agent_stack_name, 'CREATE_COMPLETE')"
   ]
  },
  {
   "cell_type": "markdown",
   "metadata": {},
   "source": [
    "### (Optional) Experiment with Different Models and Update the Template\n",
    "\n",
    "To explore alternative configurations, you can experiment with different models and update the template accordingly. This allows you to optimize the setup and align it with your specific requirements."
   ]
  },
  {
   "cell_type": "code",
   "execution_count": null,
   "metadata": {},
   "outputs": [],
   "source": [
    "import ipywidgets as widgets\n",
    "\n",
    "agent_foundation_model_selector = widgets.Dropdown(\n",
    "    options=[\n",
    "        (model['modelName'], model['modelId']) \n",
    "        for model in bedrock_management_client.list_foundation_models(\n",
    "            byOutputModality=\"TEXT\",\n",
    "            byInferenceType=\"ON_DEMAND\"\n",
    "        ).get('modelSummaries', [])  if model['providerName'] in ('Amazon', 'Anthropic') \n",
    "    ],\n",
    "    value='anthropic.claude-3-sonnet-20240229-v1:0',\n",
    "    description='FM:',\n",
    "    disabled=False,\n",
    ")\n",
    "agent_foundation_model_selector"
   ]
  },
  {
   "cell_type": "code",
   "execution_count": null,
   "metadata": {},
   "outputs": [],
   "source": [
    "from cloudformation_utils import update_parameters, update_stack\n",
    "from cloudformation_utils import wait_for_stack\n",
    "\n",
    "try:\n",
    "    parameters = update_parameters(parameters, key=\"FoundationModelId\", value=agent_foundation_model_selector.value)\n",
    "    cloudformation_template = load_template(template_file_path)\n",
    "    stack_id = update_stack(aws_region, agent_stack_name, cloudformation_template, parameters)\n",
    "    wait_for_stack(aws_region, stack_name, 'UPDATE_COMPLETE')\n",
    "except Exception as e:\n",
    "    print(f\"An unexpected error occurred: {e}\")"
   ]
  },
  {
   "cell_type": "markdown",
   "metadata": {},
   "source": [
    "### Retrieve Stack Outputs\n",
    "\n",
    "Get the outputs from the stack, such as the DynamoDB table name and IAM role ARN, to use them in subsequent steps."
   ]
  },
  {
   "cell_type": "code",
   "execution_count": null,
   "metadata": {},
   "outputs": [],
   "source": [
    "response = cloudformation_client.describe_stacks(StackName=agent_stack_name)\n",
    "outputs = response['Stacks'][0]['Outputs']\n",
    "\n",
    "lab4_results = {}\n",
    "for output in outputs:\n",
    "    lab4_results[output['OutputKey']] = output['OutputValue']\n",
    "    print(f\"{output['OutputKey']}: {output['OutputValue']}\")"
   ]
  },
  {
   "cell_type": "markdown",
   "metadata": {},
   "source": [
    "## Upload Knowledge Base Documents to S3\n",
    "\n",
    "The next step involves uploading the Knowledge Base (KB) documents to the **S3 bucket** provisioned by the CloudFormation stack. This ensures that the KB is securely stored and accessible for processing."
   ]
  },
  {
   "cell_type": "code",
   "execution_count": null,
   "metadata": {},
   "outputs": [],
   "source": [
    "import os\n",
    "import boto3\n",
    "\n",
    "s3_client = boto3.client('s3')\n",
    "bucket_name = lab2_results['S3BucketName']\n",
    "document_path = \"kb_restaurant\"\n",
    "\n",
    "\n",
    "def upload_directory(path, bucket_name, prefix):\n",
    "    for root, dirs, files in os.walk(path):\n",
    "        for file in files:\n",
    "            file_to_upload = os.path.join(root, file)\n",
    "            relative_path = os.path.relpath(file_to_upload, path)\n",
    "            s3_key = f\"{prefix}/{relative_path.replace(os.sep, '/')}\" \n",
    "            print(f\"Uploading {file_to_upload} to S3 bucket {bucket_name} with key {s3_key}\")\n",
    "            s3_client.upload_file(file_to_upload, bucket_name, s3_key)\n",
    "\n",
    "            \n",
    "upload_directory(document_path, bucket_name, prefix=document_path)"
   ]
  },
  {
   "cell_type": "markdown",
   "metadata": {},
   "source": [
    "### Sync the Knowledge Base\n",
    "\n",
    "Once the documents are uploaded, synchronize the Knowledge Base to ensure the latest data is accessible to the system."
   ]
  },
  {
   "cell_type": "code",
   "execution_count": null,
   "metadata": {},
   "outputs": [],
   "source": [
    "def synchronize_data(bedrock_client, kb_id, ds_id):\n",
    "    try:\n",
    "        start_job_response = bedrock_client.start_ingestion_job(\n",
    "            knowledgeBaseId=kb_id,\n",
    "            dataSourceId=ds_id\n",
    "        )\n",
    "        job = start_job_response[\"ingestionJob\"]\n",
    "        print(f\"Started ingestion job: {job['ingestionJobId']}\")\n",
    "\n",
    "        while job['status'] not in ['COMPLETE', 'FAILED']:\n",
    "            job_status_response = bedrock_client.get_ingestion_job(\n",
    "                knowledgeBaseId=kb_id,\n",
    "                dataSourceId=ds_id,\n",
    "                ingestionJobId=job[\"ingestionJobId\"]\n",
    "            )\n",
    "            job = job_status_response[\"ingestionJob\"]\n",
    "            print(f\"Ingestion job status: {job['status']}\")\n",
    "            if job['status'] == 'FAILED':\n",
    "                raise Exception(f\"Ingestion job failed with reason: {job.get('failureReason')}\")\n",
    "            time.sleep(30)\n",
    "\n",
    "        print(f\"Ingestion job completed with status: {job['status']}\")\n",
    "    except ClientError as e:\n",
    "        print(f\"Error occurred during synchronization: {e}\")\n",
    "        raise"
   ]
  },
  {
   "cell_type": "markdown",
   "metadata": {},
   "source": [
    "**Instructions:**\n",
    "\n",
    "1. **Extract IDs:**\n",
    "   - Retrieve the `BedrockKnowledgeBaseId` from `lab4_results`.\n",
    "   - Parse the `BedrockDataSourceId` and extract the second part after splitting it by the delimiter `\"|\"`.\n",
    "\n",
    "2. **Start Synchronization:**\n",
    "   - Use the `synchronize_data` function to initiate the sync job, passing the extracted Knowledge Base and Data Source IDs along with the `bedrock_agent_client`.\n",
    "\n",
    "<details>\n",
    "<summary>Click here for the solution</summary>\n",
    "\n",
    "```python\n",
    "# Extract the Knowledge Base ID\n",
    "kb_id = lab4_results[\"BedrockKnowledgeBaseId\"]\n",
    "\n",
    "# Extract the Data Source ID (split and take the second part)\n",
    "ds_id = lab4_results[\"BedrockDataSourceId\"].split(\"|\")[1]\n",
    "\n",
    "# Start the synchronization process\n",
    "synchronize_data(bedrock_agent_client, kb_id, ds_id)\n",
    "```\n",
    "\n",
    "</details>"
   ]
  },
  {
   "cell_type": "code",
   "execution_count": null,
   "metadata": {},
   "outputs": [],
   "source": []
  },
  {
   "cell_type": "code",
   "execution_count": null,
   "metadata": {},
   "outputs": [],
   "source": []
  },
  {
   "cell_type": "markdown",
   "metadata": {},
   "source": [
    "## Testing the Agent Invocation\n",
    "\n",
    "In this step, we will invoke the **Bedrock agent** and test its responses to various queries. Before proceeding, ensure that the `agent_id` and `alias_id` are correctly retrieved from the CloudFormation stack outputs."
   ]
  },
  {
   "cell_type": "code",
   "execution_count": null,
   "metadata": {},
   "outputs": [],
   "source": [
    "import uuid\n",
    "import boto3\n",
    "import pprint\n",
    "\n",
    "pp = pprint.PrettyPrinter(indent=2)\n",
    "\n",
    "\n",
    "def invoke_agent_helper(query, session_id, agent_id, alias_id, enable_trace=False, session_state=None):\n",
    "    \"\"\"\n",
    "    Invokes the Bedrock agent and streams responses.\n",
    "\n",
    "    Args:\n",
    "        query (str): The input text query for the agent.\n",
    "        session_id (str): Unique identifier for the session.\n",
    "        agent_id (str): ID of the agent to be invoked.\n",
    "        alias_id (str): Alias of the agent version (e.g., 'DRAFT').\n",
    "        enable_trace (bool, optional): Enable trace for debugging purposes.\n",
    "        session_state (dict, optional): State of the session to continue a conversation.\n",
    "\n",
    "    Returns:\n",
    "        str: The final response from the agent.\n",
    "    \"\"\"\n",
    "    if not session_state:\n",
    "        session_state = {}\n",
    "\n",
    "    payload = {\n",
    "        \"inputText\": query,\n",
    "        \"agentId\": agent_id,\n",
    "        \"agentAliasId\": alias_id,\n",
    "        \"sessionId\": session_id,\n",
    "        \"enableTrace\": enable_trace,\n",
    "        \"endSession\": False,\n",
    "        \"sessionState\": session_state\n",
    "    }\n",
    "\n",
    "    try:\n",
    "        agent_response = bedrock_agent_runtime_client.invoke_agent(**payload)\n",
    "        event_stream = agent_response['completion']\n",
    "        for event in event_stream:\n",
    "            if 'chunk' in event:\n",
    "                data = event['chunk']['bytes']\n",
    "                response_text = data.decode('utf8')\n",
    "                return response_text\n",
    "            elif 'trace' in event and enable_trace:\n",
    "                pp.pprint(event['trace'])\n",
    "            else:\n",
    "                raise Exception(f\"Unexpected event received: {event}\")\n",
    "\n",
    "    except Exception as e:\n",
    "        print(f\"Error while invoking agent: {e}\")\n",
    "        raise"
   ]
  },
  {
   "cell_type": "markdown",
   "metadata": {},
   "source": [
    "### Testing the Agent and its Functionalities\n",
    "\n",
    "To ensure that the agent behaves as expected, we will perform a series of tests in a step-by-step manner. This involves verifying the agent's invocation without a knowledge base (KB), associating a KB with the agent, and testing the agent's ability to perform actions before and after associating an action group."
   ]
  },
  {
   "cell_type": "markdown",
   "metadata": {},
   "source": [
    "**Instructions:**\n",
    "\n",
    "1. **List Agent Aliases:**\n",
    "   - Use the AWS CLI command to list the available aliases for the agent specified in `lab4_results[\"BedrockAgentId\"]`.\n",
    "\n",
    "2. **Extract Required IDs:**\n",
    "   - Retrieve the `BedrockAgentId` from `new_results`.\n",
    "   - Read the output from the AWS CLI command to determine the `alias_id` and `agent_version`.\n",
    "   - Assign the `alias_id` and `agent_version` based on the CLI output.\n",
    "\n",
    "3. **Verify IDs:**\n",
    "   - Print or log the extracted `agent_id`, `alias_id`, and `agent_version` to confirm they are correct before using them in further operations.\n",
    "\n",
    "<details>\n",
    "<summary>Click here for the solution</summary>\n",
    "\n",
    "```python\n",
    "# List agent aliases using AWS CLI\n",
    "!aws bedrock-agent list-agent-aliases --agent-id {lab4_results[\"BedrockAgentId\"]}\n",
    "\n",
    "# Extract the agent ID from results\n",
    "agent_id = lab4_results[\"BedrockAgentId\"]\n",
    "\n",
    "# Manually assign or retrieve alias ID and agent version based on CLI output\n",
    "alias_id = \"read-from-cli-output\"\n",
    "agent_version = \"read-from-cli-output\"\n",
    "\n",
    "# Print the extracted values for verification\n",
    "print(f\"Agent ID: {agent_id}\")\n",
    "print(f\"Alias ID: {alias_id}\")\n",
    "print(f\"Agent Version: {agent_version}\")\n",
    "```\n",
    "\n",
    "</details>"
   ]
  },
  {
   "cell_type": "code",
   "execution_count": null,
   "metadata": {},
   "outputs": [],
   "source": []
  },
  {
   "cell_type": "code",
   "execution_count": null,
   "metadata": {},
   "outputs": [],
   "source": []
  },
  {
   "cell_type": "markdown",
   "metadata": {},
   "source": [
    "#### Test Agent Invocation Without a Knowledge Base\n",
    "\n",
    "Initially, we will test the agent's response to queries without any associated Knowledge Base (KB). This will help us verify the agent's default behavior and foundational functionality when no external data sources are available."
   ]
  },
  {
   "cell_type": "code",
   "execution_count": null,
   "metadata": {},
   "outputs": [],
   "source": [
    "session_id:str = str(uuid.uuid1())"
   ]
  },
  {
   "cell_type": "code",
   "execution_count": null,
   "metadata": {},
   "outputs": [],
   "source": [
    "%%time\n",
    "query = \"What is in the children's menu?\"\n",
    "response = invoke_agent_helper(query, session_id, agent_id, alias_id)\n",
    "print(\"Agent response:\", response)"
   ]
  },
  {
   "cell_type": "markdown",
   "metadata": {},
   "source": [
    "### Associate a Knowledge Base with the Agent\n",
    "\n",
    "To enhance the agent's capabilities, we will associate a Knowledge Base (KB) containing restaurant booking information. This step uses the [`AssociateAgentKnowledgeBase`](https://boto3.amazonaws.com/v1/documentation/api/latest/reference/services/bedrock-agent/client/associate_agent_knowledge_base.html) API in boto3. Associating a KB allows the agent to query specific information stored in the KB, improving its responses to user queries."
   ]
  },
  {
   "cell_type": "markdown",
   "metadata": {},
   "source": [
    "To enable the agent to utilize the Knowledge Base (KB) effectively, you need to associate the KB with the agent. This step allows the agent to access the KB for answering relevant queries.\n",
    "\n",
    "#### Required Parameters:\n",
    "\n",
    "- **`agentId`**: The ID of the agent to which the KB will be associated.\n",
    "- **`agentVersion`**: The version of the agent (e.g., `'DRAFT'` or `'ACTIVE'`).\n",
    "- **`knowledgeBaseId`**: The ID of the Knowledge Base to be linked to the agent.\n",
    "- **`knowledgeBaseState`**: Set to `'ENABLED'` to activate the KB for use.\n",
    "- **`description`**: A brief explanation of how the KB will be utilized, e.g., `'Access the knowledge base when customers ask about the plates in the menu.'`\n",
    "\n",
    "<details>\n",
    "<summary>Click here for the solution</summary>\n",
    "\n",
    "```python\n",
    "description = \"Access the knowledge base when customers ask about the plates in the menu.\"\n",
    "response = bedrock_agent_client.associate_agent_knowledge_base(\n",
    "    agentId=agent_id,\n",
    "    agentVersion=agent_version,\n",
    "    description=description,\n",
    "    knowledgeBaseId=kb_id,\n",
    "    knowledgeBaseState='ENABLED'\n",
    ")\n",
    "```\n",
    "</details>"
   ]
  },
  {
   "cell_type": "code",
   "execution_count": null,
   "metadata": {
    "tags": []
   },
   "outputs": [],
   "source": []
  },
  {
   "cell_type": "markdown",
   "metadata": {},
   "source": [
    "### Preparing the Agent for Activation\n",
    "\n",
    "After making updates to the agent, it is necessary to transition its state from **DRAFT** to **ACTIVE**. This ensures the agent is fully operational and ready for production use."
   ]
  },
  {
   "cell_type": "code",
   "execution_count": null,
   "metadata": {},
   "outputs": [],
   "source": [
    "response = bedrock_agent_client.prepare_agent(\n",
    "    agentId=agent_id\n",
    ")"
   ]
  },
  {
   "cell_type": "markdown",
   "metadata": {},
   "source": [
    "### Test Agent Invocation With the Knowledge Base\n",
    "\n",
    "After associating the KB, we will test the agent again to validate that it is successfully utilizing the KB for answering queries. This ensures that the integration between the agent and the KB is functioning correctly."
   ]
  },
  {
   "cell_type": "code",
   "execution_count": null,
   "metadata": {},
   "outputs": [],
   "source": [
    "session_id:str = str(uuid.uuid1())"
   ]
  },
  {
   "cell_type": "code",
   "execution_count": null,
   "metadata": {},
   "outputs": [],
   "source": [
    "%%time\n",
    "query = \"What is in the children's menu?\"\n",
    "response = invoke_agent_helper(query, session_id, agent_id, alias_id)\n",
    "print(\"Agent response:\", response)"
   ]
  },
  {
   "cell_type": "markdown",
   "metadata": {},
   "source": [
    "#### Test the Agent Performing an Action Without Action Group Association\n",
    "\n",
    "Before associating an action group, we will test the agent's ability to perform defined actions, such as creating or retrieving a booking. This step ensures that the agent correctly reports any missing or unlinked functionalities, highlighting the need for an associated action group."
   ]
  },
  {
   "cell_type": "code",
   "execution_count": null,
   "metadata": {},
   "outputs": [],
   "source": [
    "session_id:str = str(uuid.uuid1())"
   ]
  },
  {
   "cell_type": "code",
   "execution_count": null,
   "metadata": {
    "tags": []
   },
   "outputs": [],
   "source": [
    "%%time\n",
    "query = \"Hi, I am Anna. I want to create a booking for 2 people, at 8pm on the 5th of May 2024.\"\n",
    "response = invoke_agent_helper(query, session_id, agent_id, alias_id)\n",
    "print(\"Agent response:\", response)"
   ]
  },
  {
   "cell_type": "markdown",
   "metadata": {},
   "source": [
    "### Defining and Associating an Agent Action Group\n",
    "\n",
    "With the Lambda function now created, the next step is to define an [Action Group](https://docs.aws.amazon.com/bedrock/latest/userguide/agents-action-create.html) and link it to the agent. Action Groups enable the agent to perform specific tasks—in this case, handling booking operations. \n",
    "\n",
    "To achieve this, we provide the agent with a [function schema](https://docs.aws.amazon.com/bedrock/latest/userguide/agents-action-function.html) in `JSON` format. This schema describes the capabilities of the Lambda function, including the function name, a brief description of its purpose, and details about its parameters.\n",
    "\n",
    "Each parameter must include:\n",
    "- **Name**: The identifier of the parameter.\n",
    "- **Description**: A clear explanation of its role.\n",
    "- **Type**: The expected data type for the parameter.\n",
    "- **Required**: A flag indicating whether the parameter is mandatory for the function.\n",
    "\n",
    "The schema for these functions will be defined as `agent_functions` in JSON format. This structure allows the agent to understand and execute its associated tasks effectively."
   ]
  },
  {
   "cell_type": "code",
   "execution_count": null,
   "metadata": {},
   "outputs": [],
   "source": [
    "agent_functions = [\n",
    "    {\n",
    "        'name': 'get_booking_details',\n",
    "        'description': 'Retrieve details of a restaurant booking',\n",
    "        'parameters': {\n",
    "            \"booking_id\": {\n",
    "                \"description\": \"The ID of the booking to retrieve\",\n",
    "                \"required\": True,\n",
    "                \"type\": \"string\"\n",
    "            }\n",
    "        }\n",
    "    },\n",
    "    {\n",
    "        'name': 'create_booking',\n",
    "        'description': 'Create a new restaurant booking',\n",
    "        'parameters': {\n",
    "            \"date\": {\n",
    "                \"description\": \"The date of the booking in the format YYYY-MM-DD\",\n",
    "                \"required\": True,\n",
    "                \"type\": \"string\"\n",
    "            },\n",
    "            \"name\": {\n",
    "                \"description\": \"Name to idenfity your reservation\",\n",
    "                \"required\": True,\n",
    "                \"type\": \"string\"\n",
    "            },\n",
    "            \"hour\": {\n",
    "                \"description\": \"The hour of the booking in the format HH:MM\",\n",
    "                \"required\": True,\n",
    "                \"type\": \"string\"\n",
    "            },\n",
    "            \"num_guests\": {\n",
    "                \"description\": \"The number of guests for the booking\",\n",
    "                \"required\": True,\n",
    "                \"type\": \"integer\"\n",
    "            }\n",
    "        }\n",
    "    },\n",
    "    {\n",
    "        'name': 'delete_booking',\n",
    "        'description': 'Delete an existing restaurant booking',\n",
    "        'parameters': {\n",
    "            \"booking_id\": {\n",
    "                \"description\": \"The ID of the booking to delete\",\n",
    "                \"required\": True,\n",
    "                \"type\": \"string\"\n",
    "            }\n",
    "        }\n",
    "    },\n",
    "]"
   ]
  },
  {
   "cell_type": "markdown",
   "metadata": {},
   "source": [
    "### Attaching the Action Group\n",
    "\n",
    "The following Python code executes the creation of the Action Group using the Bedrock Agent SDK. This ensures the Action Group is properly registered and associated with the agent."
   ]
  },
  {
   "cell_type": "code",
   "execution_count": null,
   "metadata": {},
   "outputs": [],
   "source": [
    "agent_action_group_name = \"TableBookingActions\"\n",
    "agent_action_group_description = \"Provides functions for booking-related tasks such as retrieving, creating, or deleting a booking.\"\n",
    "action_group_executor = {'lambda': lab4_results['LambdaFunctionArn']}\n",
    "function_schema = {'functions': agent_functions}"
   ]
  },
  {
   "cell_type": "markdown",
   "metadata": {},
   "source": [
    "To enhance the agent's capabilities, use the `bedrock_agent_client.create_agent_action_group` API to attach an action group. This allows the agent to execute specific actions as defined in the action group.\n",
    "\n",
    "### Required Parameters:\n",
    "\n",
    "- **`agentId`**: The ID of the agent to which the action group will be attached.\n",
    "- **`agentVersion`**: The version of the agent (e.g., `'DRAFT'`).\n",
    "- **`actionGroupExecutor`**: Specifies the executor that handles the actions within the group.\n",
    "- **`actionGroupName`**: The name of the action group being created.\n",
    "- **`functionSchema`**: Defines the schema for the actions in the group.\n",
    "- **`description`**: A brief explanation of the action group’s purpose and functionality.\n",
    "\n",
    "<details>\n",
    "<summary>Click here for the solution</summary>\n",
    "\n",
    "```python\n",
    "agent_action_group_response = bedrock_agent_client.create_agent_action_group(\n",
    "    agentId=agent_id,\n",
    "    agentVersion='DRAFT',\n",
    "    actionGroupExecutor=action_group_executor,\n",
    "    actionGroupName=agent_action_group_name,\n",
    "    functionSchema=function_schema,\n",
    "    description=agent_action_group_description\n",
    ")\n",
    "```\n",
    "\n",
    "</details>"
   ]
  },
  {
   "cell_type": "code",
   "execution_count": null,
   "metadata": {},
   "outputs": [],
   "source": []
  },
  {
   "cell_type": "markdown",
   "metadata": {},
   "source": [
    "### Preparing the Agent for Activation\n",
    "\n",
    "After making updates to the agent, it is necessary to transition its state from **DRAFT** to **ACTIVE**. This ensures the agent is fully operational and ready for production use."
   ]
  },
  {
   "cell_type": "code",
   "execution_count": null,
   "metadata": {},
   "outputs": [],
   "source": [
    "response = bedrock_agent_client.prepare_agent(\n",
    "    agentId=agent_id\n",
    ")"
   ]
  },
  {
   "cell_type": "markdown",
   "metadata": {},
   "source": [
    "#### Test the Agent Performing an Action After Action Group Association\n",
    "\n",
    "Finally, we will test the agent's ability to execute actions after associating the action group. This includes verifying functionalities like creating, retrieving, and deleting bookings. A successful test confirms that the agent is now fully functional and capable of performing its intended tasks.\n"
   ]
  },
  {
   "cell_type": "code",
   "execution_count": null,
   "metadata": {},
   "outputs": [],
   "source": [
    "session_id:str = str(uuid.uuid1())"
   ]
  },
  {
   "cell_type": "code",
   "execution_count": null,
   "metadata": {},
   "outputs": [],
   "source": [
    "%%time\n",
    "query = \"Hi, I am Anna. I want to create a booking for 2 people, at 8pm on the 5th of May 2024.\"\n",
    "response = invoke_agent_helper(query, session_id, agent_id, alias_id)\n",
    "print(\"Agent response:\", response)"
   ]
  },
  {
   "cell_type": "markdown",
   "metadata": {},
   "source": [
    "#### Validate DynamoDB Table\n",
    "\n",
    "We will verify that restaurant booking operations (e.g., creating a reservation) are correctly reflected in the DynamoDB table."
   ]
  },
  {
   "cell_type": "code",
   "execution_count": null,
   "metadata": {},
   "outputs": [],
   "source": [
    "dynamodb = boto3.resource('dynamodb')\n",
    "table_name = lab4_results['DynamoDBTableName']\n",
    "table = dynamodb.Table(table_name)\n",
    "\n",
    "response = table.scan()\n",
    "items = response['Items']\n",
    "print(\"DynamoDB table items:\", json.dumps(items, indent=4))"
   ]
  },
  {
   "cell_type": "markdown",
   "metadata": {},
   "source": [
    "## Agents for Amazon Bedrock: Testing Agent Invocation\n",
    "\n",
    "This section provides an overview of testing the **Amazon Bedrock agent invocation** using the [`boto3`](https://boto3.amazonaws.com/v1/documentation/api/latest/reference/services/bedrock-agent-runtime.html) client for `bedrock-agent-runtime`. After creating the agent and associating the Knowledge Base (KB), the next step is to test its functionality by invoking it with various queries.\n",
    "\n",
    "#### What You’ll Do:\n",
    "- **Invoke the Agent with a New Session:** Use the Knowledge Base and Action Groups to execute queries in a fresh session.\n",
    "- **Invoke the Agent with an Existing Session:** Continue interactions within an established session to preserve context.\n",
    "- **Invoke the Agent with Prompt Attributes:** Customize the invocation with additional parameters and attributes.\n",
    "- **Enable Tracing for Debugging:** Activate trace logging to monitor the agent's decision-making process.\n",
    "- **Invoke the Agent in Different Languages:** Test the agent's multilingual capabilities by sending queries in various languages."
   ]
  },
  {
   "cell_type": "markdown",
   "metadata": {},
   "source": [
    "We use a helper function, `invoke_agent_helper`, to interact with the agent in a flexible manner. This function lets users send a `query` to the agent while optionally enabling trace functionality and maintaining session context.\n",
    "\n",
    "### Key Features:\n",
    "\n",
    "1. **Session Management:**\n",
    "   - The `session_id` parameter allows users to manage conversation sessions:\n",
    "     - Providing a new `session_id` starts a fresh conversation without prior context.\n",
    "     - Reusing an existing `session_id` continues the conversation with previously shared context.\n",
    "\n",
    "2. **Trace Option:**\n",
    "   - When the `enable_trace` parameter is set to `True`, the agent’s responses include detailed trace information. This trace outlines the reasoning or logical steps (e.g., Chain of Thoughts prompting) that the agent followed to arrive at the given response, providing insights into the agent's decision-making process.\n",
    "\n",
    "3. **Session State:**\n",
    "   - The `session_state` parameter accepts a dictionary that allows for the sharing of specific session-related information. It includes:\n",
    "     - **`sessionAttributes`**: These attributes persist across all calls with the same `session_id` within a session, as long as the session remains active. While these attributes are accessible to the agent's Lambda function, they are not included in the agent's prompt directly. For example:\n",
    "       - You can implement fine-grained API access control using Lambda integration.\n",
    "       - Refer to [this example](https://github.com/aws-samples/amazon-bedrock-samples/tree/main/agents-for-bedrock/features-examples/09-fine-grained-access-permissions) for further details.\n",
    "     - **`promptSessionAttributes`**: These attributes are specific to a single `invoke_agent_helper` call. They are included in both the agent's prompt and Lambda function. The `$prompt_session_attributes$` placeholder can be used when defining the orchestration base prompt.\n",
    "     - **`invocationId`**: Used to pass the `invocationId` from a previous control payload, enabling you to provide additional context or responses for a Return of Control action. More details can be found [here](https://github.com/aws-samples/amazon-bedrock-samples/tree/main/agents-for-bedrock/features-examples/03-create-agent-with-return-of-control).\n",
    "     - **`returnControlInvocationResults`**: Contains the results of actions executed outside the agent. This field is required for Return of Control scenarios, as explained in [this example](https://github.com/aws-samples/amazon-bedrock-samples/tree/main/agents-for-bedrock/features-examples/03-create-agent-with-return-of-control)."
   ]
  },
  {
   "cell_type": "markdown",
   "metadata": {},
   "source": [
    "#### Create support selectAllFromDynamoDB function\n",
    "\n",
    "We will also create the support function called `selectAllFromDynamoDB` to select all data in the dynamoDB table `restaurant_bookings`. This function will be used to validate our agent's behaviour"
   ]
  },
  {
   "cell_type": "code",
   "execution_count": null,
   "metadata": {},
   "outputs": [],
   "source": [
    "import logging\n",
    "import pprint\n",
    "import json\n",
    "import pandas as pd\n",
    "\n",
    "dynamodb = boto3.resource('dynamodb')\n",
    "\n",
    "def selectAllFromDynamodb():\n",
    "    table = dynamodb.Table(table_name)\n",
    "    \n",
    "    response = table.scan()\n",
    "    items = response['Items']\n",
    "\n",
    "    while 'LastEvaluatedKey' in response:\n",
    "        response = table.scan(ExclusiveStartKey=response['LastEvaluatedKey'])\n",
    "        items.extend(response['Items'])\n",
    "\n",
    "    items = pd.DataFrame(items)\n",
    "    return items"
   ]
  },
  {
   "cell_type": "code",
   "execution_count": null,
   "metadata": {},
   "outputs": [],
   "source": [
    "items = selectAllFromDynamodb()\n",
    "items"
   ]
  },
  {
   "cell_type": "markdown",
   "metadata": {},
   "source": [
    "### Invoking agent with a new session id\n",
    "Let's first use the `InvokeAgent` function to query the Knowledge Base with the agent without previous context"
   ]
  },
  {
   "cell_type": "code",
   "execution_count": null,
   "metadata": {},
   "outputs": [],
   "source": [
    "session_id:str = str(uuid.uuid1())"
   ]
  },
  {
   "cell_type": "code",
   "execution_count": null,
   "metadata": {},
   "outputs": [],
   "source": [
    "%%time\n",
    "query = \"What is in the childrens menu?\"\n",
    "response = invoke_agent_helper(query, session_id, agent_id, alias_id)\n",
    "print(response)"
   ]
  },
  {
   "cell_type": "markdown",
   "metadata": {},
   "source": [
    "### Invoking agent with existent session id\n",
    "\n",
    "Next we can use the context to ask a follow up question. To do so, we use the same `session_id` with the `invokeAgent` function"
   ]
  },
  {
   "cell_type": "code",
   "execution_count": null,
   "metadata": {},
   "outputs": [],
   "source": [
    "%%time\n",
    "query = \"Which of those options are vegetarian?\"\n",
    "response = invoke_agent_helper(query, session_id, agent_id, alias_id)\n",
    "print(response)"
   ]
  },
  {
   "cell_type": "markdown",
   "metadata": {},
   "source": [
    "As you can see, the agent knows that we are talking about the children's menu.\n",
    "\n",
    "### Invoking agent using action group\n",
    "\n",
    "Now let's use our agent to make a reservation. By doing so, we will require the agent to execute an action from our action group to create a new reservation."
   ]
  },
  {
   "cell_type": "code",
   "execution_count": null,
   "metadata": {},
   "outputs": [],
   "source": [
    "%%time\n",
    "query = \"Hi, I am Maria. I want to create a booking for 4 people, at 9pm on the 5th of May 2024.\"\n",
    "response = invoke_agent_helper(query, session_id, agent_id, alias_id)\n",
    "print(response)"
   ]
  },
  {
   "cell_type": "markdown",
   "metadata": {},
   "source": [
    "Let's double check that the data was properly added to the dynamoDB table"
   ]
  },
  {
   "cell_type": "code",
   "execution_count": null,
   "metadata": {},
   "outputs": [],
   "source": [
    "selectAllFromDynamodb()"
   ]
  },
  {
   "cell_type": "markdown",
   "metadata": {},
   "source": [
    "When making restaurant reservations with our agent, it’s common to already be logged into a system that knows our name. Wouldn't it be fantastic if the agent could use that information too?\n",
    "\n",
    "We can achieve this by utilizing the session context to pass attributes directly into the agent's prompt. Specifically, we'll use the [`promptSessionAttributes`](https://docs.aws.amazon.com/bedrock/latest/userguide/agents-session-state.html) parameter to include these details. Additionally, we’ll start a fresh session with a new `session_id` to ensure the agent doesn’t retain prior knowledge of our name."
   ]
  },
  {
   "cell_type": "code",
   "execution_count": null,
   "metadata": {},
   "outputs": [],
   "source": [
    "session_id:str = str(uuid.uuid1())"
   ]
  },
  {
   "cell_type": "code",
   "execution_count": null,
   "metadata": {},
   "outputs": [],
   "source": [
    "%%time\n",
    "query = \"I want to create a booking for 2 people, at 8pm on the 6th of May 2024.\"\n",
    "session_state = {\n",
    "    \"promptSessionAttributes\": {\n",
    "        \"name\": \"John\"\n",
    "    }\n",
    "}\n",
    "response = invoke_agent_helper(query, session_id, agent_id, alias_id, session_state=session_state)\n",
    "print(response)"
   ]
  },
  {
   "cell_type": "markdown",
   "metadata": {},
   "source": [
    "Again let's validate the the correct data was added to dynamoDB"
   ]
  },
  {
   "cell_type": "code",
   "execution_count": null,
   "metadata": {},
   "outputs": [],
   "source": [
    "selectAllFromDynamodb()"
   ]
  },
  {
   "cell_type": "markdown",
   "metadata": {},
   "source": [
    "We can also validate the data using our agent's session information since the agent knows the booking id to invoke the get booking details function"
   ]
  },
  {
   "cell_type": "code",
   "execution_count": null,
   "metadata": {},
   "outputs": [],
   "source": [
    "%%time\n",
    "query = \"Get the details for the last booking created\"\n",
    "booking_id = invoke_agent_helper(query, session_id, agent_id, alias_id)\n",
    "print(booking_id)"
   ]
  },
  {
   "cell_type": "markdown",
   "metadata": {},
   "source": [
    "#### Deleting booking created\n",
    "\n",
    "Let's also test the delete booking functionality by deleting the last created booking id"
   ]
  },
  {
   "cell_type": "code",
   "execution_count": null,
   "metadata": {},
   "outputs": [],
   "source": [
    "%%time\n",
    "query = f\"I want to delete the booking.\"\n",
    "response = invoke_agent_helper(query, session_id, agent_id, alias_id)\n",
    "print(response)"
   ]
  },
  {
   "cell_type": "markdown",
   "metadata": {},
   "source": [
    "And we confirm that the booking has also been deleted from the dynamoDB table"
   ]
  },
  {
   "cell_type": "code",
   "execution_count": null,
   "metadata": {},
   "outputs": [],
   "source": [
    "selectAllFromDynamodb()"
   ]
  },
  {
   "cell_type": "markdown",
   "metadata": {},
   "source": [
    "#### Invoking agent using promptSessionAttributes to handle temporal information\n",
    "\n",
    "With real-life applications, context is really important. We want to make reservations considering the current date and the days sorounding it. Agents for Amazon Bedrock also allow you to provide temporal context for the agent with the prompt attributes. Let's test it with a reservation for tomorrow"
   ]
  },
  {
   "cell_type": "code",
   "execution_count": null,
   "metadata": {},
   "outputs": [],
   "source": [
    "query = \"I want to create a booking for 2 people, at 8pm tomorrow.\""
   ]
  },
  {
   "cell_type": "markdown",
   "metadata": {},
   "source": [
    "Using `promptSessionAttributes` to Provide Today's Date in `'MMM-DD-YYYY'` Format\n",
    "\n",
    "Use the `invoke_agent_helper` function with `promptSessionAttributes` to pass the current date to the agent. The date will be formatted as `'MMM-DD-YYYY'` (e.g., `Dec-08-2024`). Additionally, we'll make a booking request for tomorrow using this information using the above `query`.\n",
    "\n",
    "<details>\n",
    "<summary>Click here to view the solution</summary>\n",
    "\n",
    "```python\n",
    "%%time\n",
    "# Importing the datetime module to retrieve today's date\n",
    "from datetime import datetime\n",
    "\n",
    "# Format today's date as 'MMM-DD-YYYY'\n",
    "today = datetime.today().strftime('%b-%d-%Y')\n",
    "\n",
    "# Creating a session ID and making a booking request for tomorrow\n",
    "session_id: str = str(uuid.uuid1())\n",
    "query = \"I want to create a booking for 2 people, at 8pm tomorrow.\"\n",
    "session_state = {\n",
    "    \"promptSessionAttributes\": {\n",
    "        \"name\": \"John\",  # User's name\n",
    "        \"today\": today   # Current date in specified format\n",
    "    }\n",
    "}\n",
    "\n",
    "# Invoking the agent with the query and session context\n",
    "response = invoke_agent_helper(query, session_id, agent_id, alias_id, session_state=session_state)\n",
    "print(response)\n",
    "```\n",
    "\n",
    "</details>"
   ]
  },
  {
   "cell_type": "code",
   "execution_count": null,
   "metadata": {},
   "outputs": [],
   "source": []
  },
  {
   "cell_type": "markdown",
   "metadata": {},
   "source": [
    "And now to confirm that everything got added properly, let's retrieve the details of the last booking "
   ]
  },
  {
   "cell_type": "code",
   "execution_count": null,
   "metadata": {},
   "outputs": [],
   "source": [
    "%%time\n",
    "query = \"Could you get the details for the last booking created?\"\n",
    "booking_id = invoke_agent_helper(query, session_id, agent_id, alias_id)\n",
    "print(booking_id)"
   ]
  },
  {
   "cell_type": "markdown",
   "metadata": {},
   "source": [
    "#### Asking the agent for food recomendations\n",
    "\n",
    "Another good use case for our agent, is to use its reasoning capabilities to ask for some food recommendation. Let's look at a couple of examples for it"
   ]
  },
  {
   "cell_type": "code",
   "execution_count": null,
   "metadata": {},
   "outputs": [],
   "source": [
    "%%time\n",
    "session_id:str = str(uuid.uuid1())\n",
    "query = \"What do you have for kids that don't like fries?\"\n",
    "response = invoke_agent_helper(query, session_id, agent_id, alias_id)\n",
    "print(response)"
   ]
  },
  {
   "cell_type": "code",
   "execution_count": null,
   "metadata": {},
   "outputs": [],
   "source": [
    "%%time\n",
    "session_id:str = str(uuid.uuid1())\n",
    "query = \"I am allergic to shrimps. What can I eat at this restaurant?\"\n",
    "response = invoke_agent_helper(query, session_id, agent_id, alias_id)\n",
    "print(response)"
   ]
  },
  {
   "cell_type": "markdown",
   "metadata": {},
   "source": [
    "### Invoking agent with trace enabled\n",
    "\n",
    "We can also invoke our agent with the trace enabled to produce the details of each step being orchestrated by the Agent. Let's see all the steps executed when checking for documents in the knowledge base"
   ]
  },
  {
   "cell_type": "code",
   "execution_count": null,
   "metadata": {
    "tags": []
   },
   "outputs": [],
   "source": [
    "%%time\n",
    "session_id:str = str(uuid.uuid1())\n",
    "query = \"What are the desserts on the adult menu?\"\n",
    "response = invoke_agent_helper(query, session_id, agent_id, alias_id, enable_trace=True)\n",
    "print(response)"
   ]
  },
  {
   "cell_type": "markdown",
   "metadata": {},
   "source": [
    "### Invoking agent with different prompt languages\n",
    "\n",
    "The last feature that we will highlight in this notebook is the ability of LLM models to handle inputs in different languages. We've only implemented our agent in English, but wouldn't it be great if it could also handle other languages?\n",
    "\n",
    "Good news is that it can! This is due to the LLM multi-language capabilities. And the best part is that we don't need to change anything in the agent and it will even going to respond in the requested language.\n",
    "\n",
    "Let's try a couple of queries!"
   ]
  },
  {
   "cell_type": "code",
   "execution_count": null,
   "metadata": {},
   "outputs": [],
   "source": [
    "%%time\n",
    "# Invoking agents in spanish\n",
    "session_id:str = str(uuid.uuid1())\n",
    "query = \"¿Podrías reservar una mesa para dos 25/07/2024 a las 19:30\"\n",
    "session_state = {\n",
    "    \"promptSessionAttributes\": {\n",
    "        \"Nombre\": \"Gabriela\"\n",
    "    }\n",
    "}\n",
    "response = invoke_agent_helper(query, session_id, agent_id, alias_id, session_state=session_state)\n",
    "print(response)"
   ]
  },
  {
   "cell_type": "code",
   "execution_count": null,
   "metadata": {},
   "outputs": [],
   "source": [
    "%%time\n",
    "# Invoking agents in german\n",
    "session_id:str = str(uuid.uuid1())\n",
    "query = \"Könnten Sie heute Abend einen Tisch für zwei reservieren? Um 19:30 Uhr\"\n",
    "session_state = {\n",
    "    \"promptSessionAttributes\": {\n",
    "        \"Name\": \"Julian\",\n",
    "        \"Heute\": today\n",
    "    }\n",
    "}\n",
    "response = invoke_agent_helper(query, session_id, agent_id, alias_id, session_state=session_state)\n",
    "print(response)"
   ]
  },
  {
   "cell_type": "markdown",
   "metadata": {},
   "source": [
    "Last, let's check our dynamoDB to see all the bookings available"
   ]
  },
  {
   "cell_type": "code",
   "execution_count": null,
   "metadata": {},
   "outputs": [],
   "source": [
    "selectAllFromDynamodb()"
   ]
  },
  {
   "cell_type": "markdown",
   "metadata": {},
   "source": [
    "### Interact with the Agent on Topics Unrelated to Restaurant Booking or Menus\n",
    "\n",
    "This section outlines the constraints and boundaries (guardrails) that ensure the agent operates effectively and stays within the intended scope of the interaction. These guardrails are designed to:\n",
    "\n",
    "- Prevent the agent from straying into unrelated domains or topics.\n",
    "- Maintain the focus of the conversation while ensuring high-quality, relevant responses.\n",
    "- Handle queries outside the primary scope gracefully, providing appropriate fallback responses or redirection. \n",
    "\n",
    "These measures ensure the agent remains user-friendly and contextually accurate, even when dealing with topics unrelated to restaurant bookings or menus."
   ]
  },
  {
   "cell_type": "code",
   "execution_count": null,
   "metadata": {},
   "outputs": [],
   "source": [
    "query = \"\"\"Use only your built-in knowledge from the training set. \n",
    "Who discovered gravity, and how did it influence the development of modern physics?\"\"\""
   ]
  },
  {
   "cell_type": "code",
   "execution_count": null,
   "metadata": {},
   "outputs": [],
   "source": [
    "%%time\n",
    "session_id:str = str(uuid.uuid1())\n",
    "response = invoke_agent_helper(query, session_id, agent_id, alias_id)\n",
    "print(response)"
   ]
  },
  {
   "cell_type": "markdown",
   "metadata": {},
   "source": [
    "### Using AWS CLI to Retrieve Guardrail Identifier and Version for `update_agent`\n",
    "\n",
    "To perform the `update_agent` operation, you need to obtain the `guardrailIdentifier` and `guardrailVersion`. Use the AWS CLI to fetch this information efficiently."
   ]
  },
  {
   "cell_type": "code",
   "execution_count": null,
   "metadata": {
    "tags": []
   },
   "outputs": [],
   "source": [
    "!aws bedrock get-guardrail --guardrail-identifier {lab4_results['GuardrailId']}"
   ]
  },
  {
   "cell_type": "code",
   "execution_count": null,
   "metadata": {},
   "outputs": [],
   "source": [
    "agent_description = bedrock_agent_client.get_agent(agentId=agent_id)['agent']\n",
    "response = bedrock_agent_client.update_agent(\n",
    "    guardrailConfiguration={\n",
    "        'guardrailIdentifier': \"<your-solution-here>,\n",
    "        'guardrailVersion': \"<your-solution-here>\n",
    "    },\n",
    "    agentId=agent_description['agentId'],\n",
    "    agentName=agent_description['agentName'],\n",
    "    agentResourceRoleArn=agent_description['agentResourceRoleArn'],\n",
    "    description=agent_description['description'],\n",
    "    foundationModel=agent_description['foundationModel'],\n",
    "    idleSessionTTLInSeconds=agent_description['idleSessionTTLInSeconds'],\n",
    "    instruction=agent_description['instruction']\n",
    ")"
   ]
  },
  {
   "cell_type": "markdown",
   "metadata": {},
   "source": [
    "Each time an update is made, you must prepare the agent to ensure the changes are successfully implemented and go live."
   ]
  },
  {
   "cell_type": "code",
   "execution_count": null,
   "metadata": {},
   "outputs": [],
   "source": [
    "response = bedrock_agent_client.prepare_agent(\n",
    "    agentId=agent_id\n",
    ")"
   ]
  },
  {
   "cell_type": "code",
   "execution_count": null,
   "metadata": {},
   "outputs": [],
   "source": [
    "%%time\n",
    "session_id:str = str(uuid.uuid1())\n",
    "response = invoke_agent_helper(query, session_id, agent_id, alias_id)\n",
    "print(response)"
   ]
  },
  {
   "cell_type": "code",
   "execution_count": null,
   "metadata": {},
   "outputs": [],
   "source": []
  },
  {
   "cell_type": "markdown",
   "metadata": {},
   "source": [
    "### **Challenge 1: Implement Multi-Language Support with Knowledge Base Queries**\n",
    "\n",
    "**Objective:** Expand the agent's capability to handle multi-language queries by leveraging the Knowledge Base and LLM's multilingual capabilities.\n",
    "\n",
    "#### **Scenario:**\n",
    "Your agent manages a restaurant booking system but needs to support users in different languages, such as **French** and **Italian**, while maintaining access to the Knowledge Base.\n",
    "\n",
    "#### **Tasks:**\n",
    "\n",
    "1. **Enable Multilingual Support:**\n",
    "   - Use the same Knowledge Base but query it in French and Italian.\n",
    "   - Ensure the agent responds in the query language.\n",
    "   - Examples:\n",
    "     - *French:* \"Quelles sont les options végétariennes dans le menu enfant?\"\n",
    "     - *Italian:* \"Quali opzioni vegetariane ci sono nel menu per bambini?\"\n",
    "\n",
    "2. **Test Knowledge Base Integration:**\n",
    "   - Verify that the Knowledge Base queries return accurate information regardless of the query language.\n",
    "   - Ensure the responses maintain language consistency.\n",
    "\n",
    "3. **Handle Context with Session Attributes:**\n",
    "   - Use **promptSessionAttributes** to add session-specific context in the user's language.\n",
    "   - Example:\n",
    "     - French: Add \"nom\" (name) as a session attribute for personalized responses.\n",
    "     - Italian: Add \"oggi\" (today) as a temporal session attribute.\n",
    "\n",
    "4. **Evaluate Response Accuracy:**\n",
    "   - Test with ambiguous or partially translated queries.\n",
    "   - Examples:\n",
    "     - \"I want to book a table pour deux personnes.\"\n",
    "     - \"Cosa c'è nel menu per bambini with vegetarian options?\"\n",
    "\n",
    "#### **Deliverable:**\n",
    "- Python code to invoke multilingual queries.\n",
    "- A JSON file containing agent responses in different languages.\n",
    "- A brief report discussing the accuracy and consistency of responses, and any limitations observed in handling multi-language queries.\n",
    "- **How well do different models handle various languages?**"
   ]
  },
  {
   "cell_type": "code",
   "execution_count": null,
   "metadata": {},
   "outputs": [],
   "source": []
  },
  {
   "cell_type": "markdown",
   "metadata": {},
   "source": [
    "### **Challenge 2: Using Prompt Engineering to Navigate Guardrails**\n",
    "\n",
    "#### **Objective:**\n",
    "Test the robustness of the guardrail system created in **Challenge 1** by leveraging **prompt engineering** to craft queries that attempt to bypass or exploit its logic while still adhering to the input constraints.\n",
    "\n",
    "#### **Scenario:**\n",
    "The restaurant booking agent is designed to block queries involving sensitive or restricted information, such as credit card details or customer personal data. Your task is to craft carefully engineered prompts to determine if the guardrails can be bypassed, while maintaining the appearance of valid queries.\n",
    "\n",
    "#### **Tasks:**\n",
    "\n",
    "1. **Analyze the Guardrail Rules:**\n",
    "   - Review the JSON schema and logic used for the guardrail.\n",
    "   - Identify potential weaknesses or gaps in how the rules are applied (e.g., synonyms, ambiguous phrasing).\n",
    "\n",
    "2. **Craft Prompt Engineering Queries:**\n",
    "   - Write queries that attempt to bypass the guardrail while appearing valid or indirect. \n",
    "   - Attempt queries in creative ways, such as:\n",
    "     - Using synonyms or alternative phrasing.\n",
    "     - Splitting sensitive requests across multiple queries to disguise intent.\n",
    "\n",
    "3. **Test the Guardrail:**\n",
    "   - Query the agent with a combination of:\n",
    "     - *Valid queries*: Designed to retrieve legitimate booking information.\n",
    "     - *Engineered bypass queries*: Designed to test the guardrail’s robustness.\n",
    "\n",
    "4. **Evaluate Guardrail Robustness:**\n",
    "   - Record whether each query was successfully blocked by the guardrail or allowed through.\n",
    "   - Identify patterns or weaknesses in the guardrail's logic.\n",
    "\n",
    "#### **Deliverables:**\n",
    "- Python Code to test the guardrail with both valid and engineered queries.\n",
    "- A list containing the tested queries.\n",
    "- Discuss the effectiveness of the guardrail in handling prompt engineering attempts.\n",
    "- **How effectively do different models implement guardrails?**"
   ]
  },
  {
   "cell_type": "code",
   "execution_count": null,
   "metadata": {},
   "outputs": [],
   "source": []
  }
 ],
 "metadata": {
  "kernelspec": {
   "display_name": "default:Python",
   "language": "python",
   "name": "conda-env-default-py"
  },
  "language_info": {
   "codemirror_mode": {
    "name": "ipython",
    "version": 3
   },
   "file_extension": ".py",
   "mimetype": "text/x-python",
   "name": "python",
   "nbconvert_exporter": "python",
   "pygments_lexer": "ipython3",
   "version": "3.9.13"
  }
 },
 "nbformat": 4,
 "nbformat_minor": 4
}
